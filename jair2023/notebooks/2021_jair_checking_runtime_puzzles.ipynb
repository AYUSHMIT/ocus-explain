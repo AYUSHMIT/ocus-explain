{
 "cells": [
  {
   "cell_type": "code",
   "execution_count": 2,
   "id": "d0de7876",
   "metadata": {},
   "outputs": [],
   "source": [
    "from pathlib import Path\n",
    "from pyexplain.benchmark.file_utils import *\n",
    "from pyexplain.benchmark.plot import *\n",
    "from pyexplain.benchmark.check_results import *\n",
    "import IPython\n",
    "import numpy as np\n",
    "import matplotlib.pyplot as plt\n",
    "pd.set_option('display.max_rows', 100)\n",
    "\n",
    "matplotlib.rcParams['pdf.fonttype'] = 42\n",
    "matplotlib.rcParams['ps.fonttype'] = 42\n",
    "matplotlib.rcParams['text.usetex'] = True\n",
    "matplotlib.rcParams['font.weight']= 'bold'"
   ]
  },
  {
   "cell_type": "code",
   "execution_count": 3,
   "id": "9920663a",
   "metadata": {},
   "outputs": [],
   "source": [
    "DISABLE_KILLER_INSTANCES = False"
   ]
  },
  {
   "cell_type": "markdown",
   "id": "1cf058b8",
   "metadata": {},
   "source": [
    "# RQ2 Which domain specific grow improve the overall runtime?\n",
    "\n",
    "using the cumulative runtime computed directly for the new dataset"
   ]
  },
  {
   "cell_type": "code",
   "execution_count": 4,
   "id": "a5f7e701",
   "metadata": {},
   "outputs": [
    {
     "name": "stderr",
     "output_type": "stream",
     "text": [
      "/Library/Frameworks/Python.framework/Versions/3.10/lib/python3.10/site-packages/numpy/core/fromnumeric.py:3464: RuntimeWarning: Mean of empty slice.\n",
      "  return _methods._mean(a, axis=axis, dtype=dtype,\n",
      "/Library/Frameworks/Python.framework/Versions/3.10/lib/python3.10/site-packages/numpy/core/_methods.py:192: RuntimeWarning: invalid value encountered in scalar divide\n",
      "  ret = ret.dtype.type(ret / rcount)\n"
     ]
    }
   ],
   "source": [
    "mus_output_folders = [\n",
    "    \"MUS/2022030116/\"\n",
    "]\n",
    "\n",
    "path_mus = [BASE_OUTPUT_PATH + o for o in mus_output_folders]\n",
    "df_mus = folder_to_pandas_df_pickle(path_mus)\n",
    "\n",
    "if DISABLE_KILLER_INSTANCES:\n",
    "    df_mus = df_mus[~df_mus[\"params_instance\"].str.contains(\"killer\")] .reset_index()\n",
    "\n",
    "df_mus = corr_enhance_df(df_mus)\n",
    "\n",
    "renaming_expl_config = {\n",
    "    \"MUS\": \"MUS\",\n",
    "    \"OCUS\":\"OCUS+Incr. HS\",\n",
    "    \"OCUS_NOT_INCREMENTAL\":\"OCUS\",\n",
    "    \"OUS_INCREMENTAL_NAIVE\":\"OUSb+Lit. Incr. HS\",\n",
    "    \"OUS_INCREMENTAL_NAIVE_PARALLEL\": \"OUS Iter.+Lit. Incr. HS\",\n",
    "    \"OUS_NAIVE_PARALLEL\":\"OUS Iter.\",\n",
    "    \"OUS_SS\": \"OUSb\"\n",
    "}\n",
    "\n",
    "df_mus[\"explanation config\"] = df_mus.apply(lambda row: renaming_expl_config[row[\"params_explanation_computer\"]], axis=1)\n",
    "df_mus[\"tot_lits_derived\"] = df_mus.apply(lambda row: sum(row[\"lits_derived\"]), axis=1)\n",
    "df_mus[\"params_grow_config\"] = df_mus.apply(lambda row: \"MUS\", axis=1)\n",
    "df_mus[\"time_to_first_expl\"] =df_mus.apply(lambda row: row[\"params_timeout\"] if len(row[\"time_cumul_explain\"]) ==0 else row[\"time_cumul_explain\"][0], axis=1)\n",
    "\n",
    "\n"
   ]
  },
  {
   "cell_type": "code",
   "execution_count": 5,
   "id": "58a20429",
   "metadata": {},
   "outputs": [
    {
     "data": {
      "text/html": [
       "<div>\n",
       "<style scoped>\n",
       "    .dataframe tbody tr th:only-of-type {\n",
       "        vertical-align: middle;\n",
       "    }\n",
       "\n",
       "    .dataframe tbody tr th {\n",
       "        vertical-align: top;\n",
       "    }\n",
       "\n",
       "    .dataframe thead th {\n",
       "        text-align: right;\n",
       "    }\n",
       "</style>\n",
       "<table border=\"1\" class=\"dataframe\">\n",
       "  <thead>\n",
       "    <tr style=\"text-align: right;\">\n",
       "      <th></th>\n",
       "      <th>time_timedout</th>\n",
       "      <th>time_timedout_initial</th>\n",
       "    </tr>\n",
       "    <tr>\n",
       "      <th>explanation config</th>\n",
       "      <th></th>\n",
       "      <th></th>\n",
       "    </tr>\n",
       "  </thead>\n",
       "  <tbody>\n",
       "    <tr>\n",
       "      <th>MUS</th>\n",
       "      <td>92</td>\n",
       "      <td>92</td>\n",
       "    </tr>\n",
       "  </tbody>\n",
       "</table>\n",
       "</div>"
      ],
      "text/plain": [
       "                    time_timedout  time_timedout_initial\n",
       "explanation config                                      \n",
       "MUS                            92                     92"
      ]
     },
     "metadata": {},
     "output_type": "display_data"
    }
   ],
   "source": [
    "display(df_mus[[\"explanation config\", 'time_timedout', \"time_timedout_initial\"]].groupby(by=[\"explanation config\"]).sum())\n"
   ]
  },
  {
   "cell_type": "code",
   "execution_count": 6,
   "id": "1515a441",
   "metadata": {
    "code_folding": [],
    "scrolled": false
   },
   "outputs": [
    {
     "name": "stderr",
     "output_type": "stream",
     "text": [
      "/Library/Frameworks/Python.framework/Versions/3.10/lib/python3.10/site-packages/numpy/core/fromnumeric.py:3464: RuntimeWarning: Mean of empty slice.\n",
      "  return _methods._mean(a, axis=axis, dtype=dtype,\n",
      "/Library/Frameworks/Python.framework/Versions/3.10/lib/python3.10/site-packages/numpy/core/_methods.py:192: RuntimeWarning: invalid value encountered in scalar divide\n",
      "  ret = ret.dtype.type(ret / rcount)\n"
     ]
    }
   ],
   "source": [
    "all_grows_output_folders = [\n",
    "    \"RQ2_LOGIC_SUDOKU_PUZZLES/2022021411/\",\n",
    "    \"RQ2_LOGIC_SUDOKU_PUZZLES_MAXSAT_FULL/2022021708/\",\n",
    "    \"RQ2_DEMYSTIFY_PUZZLES/2022021714\",\n",
    "    \"RQ2_DEMYSTIFY_PUZZLES_MAXSAT_FULL/2022021708/\",\n",
    "    \"RQ2c_DEMYSTIFY_SUDOKU_PUZZLES/2022022508/\",\n",
    "    \"RQ2c_DEMYSTIFY_PUZZLES/2022022508/\",\n",
    "    ## re-run up until here!\n",
    "    \"RQ2_MISSING_PUZZLES/2022030215/\",\n",
    "    \"RQ2_MISSING_PUZZLES/2022031010/\"\n",
    "\n",
    "]\n",
    "\n",
    "path_all_grows_output_dirs = [BASE_OUTPUT_PATH + o for o in all_grows_output_folders]\n",
    "\n",
    "df_all_grows = folder_to_pandas_df_pickle(path_all_grows_output_dirs)\n",
    "\n",
    "if DISABLE_KILLER_INSTANCES:\n",
    "    df_all_grows = df_all_grows[~df_all_grows[\"params_instance\"].str.contains(\"killer\")] .reset_index()\n",
    "\n",
    "## These instances are ignored because their first step derives a lot 100+ literals at once, which doesn't\n",
    "df_all_grows = corr_enhance_df(df_all_grows)\n",
    "\n",
    "renaming_expl_config = {\n",
    "    \"MUS\": \"MUS\",\n",
    "    \"OCUS\":\"OCUS+Incr. HS\",\n",
    "    \"OCUS_NOT_INCREMENTAL\":\"OCUS\",\n",
    "    \"OUS_INCREMENTAL_NAIVE\":\"OUSb+Lit. Incr. HS\",\n",
    "    \"OUS_INCREMENTAL_NAIVE_PARALLEL\": \"OUS Iter.+Lit. Incr. HS\",\n",
    "    \"OUS_NAIVE_PARALLEL\":\"OUS Iter.\",\n",
    "    \"OUS_SS\": \"OUSb\"\n",
    "}\n",
    "\n",
    "##\n",
    "df_all_grows[\"tot_lits_derived\"] = df_all_grows.apply(lambda row: sum(row[\"lits_derived\"]), axis=1)\n",
    "df_all_grows[\"explanation config\"] = df_all_grows.apply(lambda row: renaming_expl_config[row[\"params_explanation_computer\"]], axis=1)\n",
    "df_all_grows[\"HS\"] = df_all_grows.apply(lambda row: row[\"tot_n_hs\"], axis=1)\n",
    "df_all_grows[\"time_to_first_expl\"] =df_all_grows.apply(lambda row: row[\"params_timeout\"] if len(row[\"time_cumul_explain\"]) ==0 else row[\"time_cumul_explain\"][0], axis=1)\n"
   ]
  },
  {
   "cell_type": "code",
   "execution_count": 7,
   "id": "ceafe08d",
   "metadata": {},
   "outputs": [],
   "source": [
    "df_all_grows_filtered = df_all_grows[\n",
    "    (~df_all_grows[\"params_grow\"].isin([\"SAT\", \"DISABLED\"]))&\n",
    "    (~df_all_grows[\"explanation config\"].isin([\"MUS\"])) &\n",
    "    (~(df_all_grows[\"params_grow\"].isin([\"CORR_GREEDY\", \"DISJ_MCS\"]) & (df_all_grows[\"params_interpretation\"] == \"FULL\")))\n",
    "]\n",
    "\n",
    "# display(df_all_grows_filtered.groupby(by=[\"explanation config\", \"params_grow\", \"params_interpretation\"]).count())"
   ]
  },
  {
   "cell_type": "code",
   "execution_count": 8,
   "id": "fc0de22e",
   "metadata": {},
   "outputs": [
    {
     "name": "stderr",
     "output_type": "stream",
     "text": [
      "/Library/Frameworks/Python.framework/Versions/3.10/lib/python3.10/site-packages/numpy/core/fromnumeric.py:3464: RuntimeWarning: Mean of empty slice.\n",
      "  return _methods._mean(a, axis=axis, dtype=dtype,\n",
      "/Library/Frameworks/Python.framework/Versions/3.10/lib/python3.10/site-packages/numpy/core/_methods.py:192: RuntimeWarning: invalid value encountered in scalar divide\n",
      "  ret = ret.dtype.type(ret / rcount)\n"
     ]
    }
   ],
   "source": [
    "only_sat_grow = [\n",
    "    \"RQ3_DEMYSTIFY_PUZZLES/2022021717/\",\n",
    "    \"RQ3_DEMYSTIFY_PUZZLES/2022030117/\",\n",
    "    \"RQ3_LOGIC_SUDOKU_PUZZLES/2022021717/\",\n",
    "]\n",
    "\n",
    "path_only_sat_grow = [BASE_OUTPUT_PATH + o for o in only_sat_grow]\n",
    "\n",
    "df_only_sat_grow = folder_to_pandas_df_pickle(path_only_sat_grow)\n",
    "\n",
    "if DISABLE_KILLER_INSTANCES:\n",
    "    df_only_sat_grow = df_only_sat_grow[~df_only_sat_grow[\"params_instance\"].str.contains(\"killer\")] .reset_index()\n",
    "\n",
    "## These instances are ignored because their first step derives a lot 100+ literals at once, which doesn't\n",
    "df_only_sat_grow = corr_enhance_df(df_only_sat_grow)\n",
    "\n",
    "renaming_expl_config = {\n",
    "    \"MUS\": \"MUS\",\n",
    "    \"OCUS\":\"OCUS+Incr. HS\",\n",
    "    \"OCUS_NOT_INCREMENTAL\":\"OCUS\",\n",
    "    \"OUS_INCREMENTAL_NAIVE\":\"OUSb+Lit. Incr. HS\",\n",
    "    \"OUS_INCREMENTAL_NAIVE_PARALLEL\": \"OUS Iter.+Lit. Incr. HS\",\n",
    "    \"OUS_NAIVE_PARALLEL\":\"OUS Iter.\",\n",
    "    \"OUS_SS\": \"OUSb\"\n",
    "}\n",
    "\n",
    "##\n",
    "df_only_sat_grow[\"tot_lits_derived\"] = df_only_sat_grow.apply(lambda row: sum(row[\"lits_derived\"]), axis=1)\n",
    "df_only_sat_grow[\"explanation config\"] = df_only_sat_grow.apply(lambda row: renaming_expl_config[row[\"params_explanation_computer\"]], axis=1)\n",
    "df_only_sat_grow[\"HS\"] = df_only_sat_grow.apply(lambda row: row[\"tot_n_hs\"], axis=1)\n",
    "\n",
    "# display(df_only_sat_grow.groupby(by=[\"explanation config\", \"params_grow\", \"params_interpretation\"]).count())"
   ]
  },
  {
   "cell_type": "code",
   "execution_count": 9,
   "id": "4423ca3f",
   "metadata": {},
   "outputs": [
    {
     "name": "stderr",
     "output_type": "stream",
     "text": [
      "/Library/Frameworks/Python.framework/Versions/3.10/lib/python3.10/site-packages/numpy/core/fromnumeric.py:3464: RuntimeWarning: Mean of empty slice.\n",
      "  return _methods._mean(a, axis=axis, dtype=dtype,\n",
      "/Library/Frameworks/Python.framework/Versions/3.10/lib/python3.10/site-packages/numpy/core/_methods.py:192: RuntimeWarning: invalid value encountered in scalar divide\n",
      "  ret = ret.dtype.type(ret / rcount)\n"
     ]
    }
   ],
   "source": [
    "sat_corr_folder = [\n",
    "    #### SAT SUBSETMAX Grow\n",
    "    \"RQ2_SAT_CORR_SUBSETS/2022060214/\",\n",
    "    #### SAT CORR + SUBSETMAX SAT CORR\n",
    "    \"RQ2_SAT_CORR_SUBSETS/2022060210/\"    \n",
    "]\n",
    "\n",
    "path_sat_corr = [BASE_OUTPUT_PATH + o for o in sat_corr_folder]\n",
    "\n",
    "df_sat_corr = folder_to_pandas_df_pickle(path_sat_corr)\n",
    "\n",
    "if DISABLE_KILLER_INSTANCES:\n",
    "    df_sat_corr = df_sat_corr[~df_sat_corr[\"params_instance\"].str.contains(\"killer\")] .reset_index()\n",
    "\n",
    "## These instances are ignored because their first step derives a lot 100+ literals at once, which doesn't\n",
    "df_sat_corr = corr_enhance_df(df_sat_corr)\n",
    "\n",
    "renaming_expl_config = {\n",
    "    \"MUS\": \"MUS\",\n",
    "    \"OCUS\":\"OCUS+Incr. HS\",\n",
    "    \"OCUS_NOT_INCREMENTAL\":\"OCUS\",\n",
    "    \"OUS_INCREMENTAL_NAIVE\":\"OUSb+Lit. Incr. HS\",\n",
    "    \"OUS_INCREMENTAL_NAIVE_PARALLEL\": \"OUS Iter.+Lit. Incr. HS\",\n",
    "    \"OUS_NAIVE_PARALLEL\":\"OUS Iter.\",\n",
    "    \"OUS_SS\": \"OUSb\"\n",
    "}\n",
    "\n",
    "##\n",
    "df_sat_corr[\"tot_lits_derived\"] = df_sat_corr.apply(lambda row: sum(row[\"lits_derived\"]), axis=1)\n",
    "df_sat_corr[\"explanation config\"] = df_sat_corr.apply(lambda row: renaming_expl_config[row[\"params_explanation_computer\"]], axis=1)\n",
    "df_sat_corr[\"HS\"] = df_sat_corr.apply(lambda row: row[\"tot_n_hs\"], axis=1)\n",
    "df_sat_corr[\"time_to_first_expl\"] =df_sat_corr.apply(lambda row: row[\"params_timeout\"] if len(row[\"time_cumul_explain\"]) ==0 else row[\"time_cumul_explain\"][0], axis=1)\n",
    "\n",
    "# display(df_only_sat_grow.groupby(by=[\"explanation config\", \"params_grow\", \"params_interpretation\"]).count())"
   ]
  },
  {
   "cell_type": "code",
   "execution_count": 14,
   "id": "f562551d",
   "metadata": {},
   "outputs": [],
   "source": [
    "df_all_grows = pd.concat([df_only_sat_grow, df_all_grows_filtered, df_mus, df_sat_corr], axis=0)\n",
    "\n",
    "# display(df_all_grows.groupby(by=[\"explanation config\", \"params_grow\", \"params_interpretation\"]).count())"
   ]
  },
  {
   "cell_type": "code",
   "execution_count": 92,
   "id": "66d1dc91",
   "metadata": {},
   "outputs": [],
   "source": [
    "col_to_display = [\n",
    "    # 'lits_derived',\n",
    "    #'max_t_explain',\n",
    "    # 'min_t_explain',\n",
    "    #'params_disable_disjoint_mcses',\n",
    "    #'params_disjoint_mcs_interpretation',\n",
    "    #'params_disjoint_mcs_weighing',\n",
    "    #'params_disjoint_mcses',\n",
    "    #'params_explanation_computer',\n",
    "    #'params_explanation_config',\n",
    "    #'params_full_explanation_config',\n",
    "    #'params_grow',\n",
    "    #'params_grow_config',\n",
    "    'params_instance',\n",
    "    #'params_interpretation',\n",
    "    #'params_maxsatpolarity',\n",
    "    #'params_reuse_SSes',\n",
    "    #'params_sort_literals',\n",
    "    #'params_timeout',\n",
    "    #'params_weighing',\n",
    "    #'time_cumul_explain',\n",
    "    #'time_explain',\n",
    "    #'time_postprocessing',\n",
    "    #'time_preprocess',\n",
    "    #'time_preseeding',\n",
    "    #'time_remaining',\n",
    "    #'time_tavg_greedy_explain',\n",
    "    #'time_timedout',\n",
    "    #'time_timedout_initial',\n",
    "    #'time_timeout',\n",
    "    'time_to_first_expl',\n",
    "    #'time_totalTime',\n",
    "    #'time_totalTime_initial',\n",
    "    'tot_lits_derived',\n",
    "    'tot_time_explain',\n",
    "]"
   ]
  },
  {
   "cell_type": "code",
   "execution_count": 93,
   "id": "59e97b82",
   "metadata": {},
   "outputs": [],
   "source": [
    "logic_grid_puzzles = [\n",
    "    'origin-problem',\n",
    "    'p12', 'p13', 'p16', 'p18', 'p19', 'p20', 'p25', 'p93', 'pastaPuzzle',\n",
    "]\n",
    "df_all_grows_lgp = df_all_grows[df_all_grows.params_instance.isin(logic_grid_puzzles)]\n"
   ]
  },
  {
   "cell_type": "code",
   "execution_count": 94,
   "id": "c4a01db5",
   "metadata": {},
   "outputs": [],
   "source": [
    "best_configuration = (\n",
    "    (df_all_grows_lgp.params_full_explanation_config == \"OUSb+Iterative+Lit. Incr. HS+sort\") & \n",
    "    (df_all_grows_lgp.params_grow_config == \"SAT MCSes + Actual + Unif.\")\n",
    ")"
   ]
  },
  {
   "cell_type": "code",
   "execution_count": 98,
   "id": "27a018fb",
   "metadata": {},
   "outputs": [
    {
     "ename": "TypeError",
     "evalue": "DataFrame.reset_index() got an unexpected keyword argument 'index'",
     "output_type": "error",
     "traceback": [
      "\u001b[0;31m---------------------------------------------------------------------------\u001b[0m",
      "\u001b[0;31mTypeError\u001b[0m                                 Traceback (most recent call last)",
      "Cell \u001b[0;32mIn[98], line 1\u001b[0m\n\u001b[0;32m----> 1\u001b[0m df_lgp_best_config \u001b[38;5;241m=\u001b[39m \u001b[43mdf_all_grows_lgp\u001b[49m\u001b[43m[\u001b[49m\n\u001b[1;32m      2\u001b[0m \u001b[43m    \u001b[49m\u001b[43mbest_configuration\u001b[49m\n\u001b[1;32m      3\u001b[0m \u001b[43m]\u001b[49m\u001b[43m[\u001b[49m\u001b[43mcol_to_display\u001b[49m\u001b[43m]\u001b[49m\u001b[38;5;241;43m.\u001b[39;49m\u001b[43mgroupby\u001b[49m\u001b[43m(\u001b[49m\n\u001b[1;32m      4\u001b[0m \u001b[43m    \u001b[49m\u001b[43mby\u001b[49m\u001b[38;5;241;43m=\u001b[39;49m\u001b[43m[\u001b[49m\n\u001b[1;32m      5\u001b[0m \u001b[43m        \u001b[49m\u001b[38;5;66;43;03m#'params_disable_disjoint_mcses',\u001b[39;49;00m\n\u001b[1;32m      6\u001b[0m \u001b[43m        \u001b[49m\u001b[38;5;66;43;03m#'params_full_explanation_config',\u001b[39;49;00m\n\u001b[1;32m      7\u001b[0m \u001b[43m        \u001b[49m\u001b[38;5;124;43m'\u001b[39;49m\u001b[38;5;124;43mparams_instance\u001b[39;49m\u001b[38;5;124;43m'\u001b[39;49m\u001b[43m,\u001b[49m\n\u001b[1;32m      8\u001b[0m \u001b[43m        \u001b[49m\u001b[38;5;66;43;03m#'params_grow_config',\u001b[39;49;00m\n\u001b[1;32m      9\u001b[0m \u001b[43m        \u001b[49m\u001b[38;5;66;43;03m#'params_interpretation',\u001b[39;49;00m\n\u001b[1;32m     10\u001b[0m \u001b[43m        \u001b[49m\u001b[38;5;66;43;03m#'params_maxsatpolarity',\u001b[39;49;00m\n\u001b[1;32m     11\u001b[0m \u001b[43m        \u001b[49m\u001b[38;5;66;43;03m#'params_reuse_SSes',\u001b[39;49;00m\n\u001b[1;32m     12\u001b[0m \u001b[43m        \u001b[49m\u001b[38;5;66;43;03m#'params_sort_literals',\u001b[39;49;00m\n\u001b[1;32m     13\u001b[0m \u001b[43m        \u001b[49m\u001b[38;5;66;43;03m#'params_timeout',\u001b[39;49;00m\n\u001b[1;32m     14\u001b[0m \u001b[43m        \u001b[49m\u001b[38;5;66;43;03m#'params_weighing'\u001b[39;49;00m\n\u001b[1;32m     15\u001b[0m \u001b[43m]\u001b[49m\u001b[43m)\u001b[49m\u001b[38;5;241;43m.\u001b[39;49m\u001b[43mmean\u001b[49m\u001b[43m(\u001b[49m\u001b[43m)\u001b[49m\u001b[38;5;241;43m.\u001b[39;49m\u001b[43msort_values\u001b[49m\u001b[43m(\u001b[49m\u001b[38;5;124;43m\"\u001b[39;49m\u001b[38;5;124;43mtot_time_explain\u001b[39;49m\u001b[38;5;124;43m\"\u001b[39;49m\u001b[43m)\u001b[49m\u001b[38;5;241;43m.\u001b[39;49m\u001b[43mreset_index\u001b[49m\u001b[43m(\u001b[49m\u001b[43mindex\u001b[49m\u001b[38;5;241;43m=\u001b[39;49m\u001b[38;5;124;43m\"\u001b[39;49m\u001b[38;5;124;43mparams_instance\u001b[39;49m\u001b[38;5;124;43m\"\u001b[39;49m\u001b[43m)\u001b[49m\n",
      "\u001b[0;31mTypeError\u001b[0m: DataFrame.reset_index() got an unexpected keyword argument 'index'"
     ]
    }
   ],
   "source": [
    "df_lgp_best_config = df_all_grows_lgp[\n",
    "    best_configuration\n",
    "][col_to_display].groupby(\n",
    "    by=[\n",
    "        #'params_disable_disjoint_mcses',\n",
    "        #'params_full_explanation_config',\n",
    "        'params_instance',\n",
    "        #'params_grow_config',\n",
    "        #'params_interpretation',\n",
    "        #'params_maxsatpolarity',\n",
    "        #'params_reuse_SSes',\n",
    "        #'params_sort_literals',\n",
    "        #'params_timeout',\n",
    "        #'params_weighing'\n",
    "]).mean().sort_values(\"tot_time_explain\").reset_index()"
   ]
  },
  {
   "cell_type": "code",
   "execution_count": 102,
   "id": "11669400",
   "metadata": {},
   "outputs": [],
   "source": [
    "df_lgp_best_config = df_lgp_best_config.set_index(\"params_instance\")\n",
    "df_lgp_best_config[\"avg_time_explain\"] = df_lgp_best_config[\"tot_time_explain\"]/df_lgp_best_config[\"tot_lits_derived\"]"
   ]
  },
  {
   "cell_type": "code",
   "execution_count": 108,
   "id": "ae8b8108",
   "metadata": {},
   "outputs": [
    {
     "name": "stdout",
     "output_type": "stream",
     "text": [
      "\\begin{tabular}{lrrr}\n",
      "\\toprule\n",
      " & time_to_first_expl & avg_time_explain & tot_time_explain \\\\\n",
      "params_instance &  &  &  \\\\\n",
      "\\midrule\n",
      "p18 & 1.14s & 0.16s & 23.32s \\\\\n",
      "p20 & 1.14s & 0.16s & 23.38s \\\\\n",
      "p25 & 1.12s & 0.26s & 38.32s \\\\\n",
      "p16 & 1.04s & 0.27s & 40.98s \\\\\n",
      "origin-problem & 1.07s & 0.29s & 43.05s \\\\\n",
      "p93 & 1.13s & 0.32s & 47.83s \\\\\n",
      "p13 & 1.20s & 0.37s & 56.22s \\\\\n",
      "p12 & 1.25s & 0.43s & 63.85s \\\\\n",
      "p19 & 3.76s & 0.55s & 137.08s \\\\\n",
      "pastaPuzzle & 0.60s & 2.98s & 286.03s \\\\\n",
      "\\bottomrule\n",
      "\\end{tabular}\n",
      "\n"
     ]
    }
   ],
   "source": [
    "print(df_lgp_best_config[\n",
    "    ['time_to_first_expl', 'avg_time_explain', 'tot_time_explain']\n",
    "].to_latex(float_format=\"{:.2f}s\".format))"
   ]
  },
  {
   "cell_type": "code",
   "execution_count": null,
   "id": "7c8c2c53",
   "metadata": {},
   "outputs": [],
   "source": []
  }
 ],
 "metadata": {
  "kernelspec": {
   "display_name": "Python 3 (ipykernel)",
   "language": "python",
   "name": "python3"
  },
  "language_info": {
   "codemirror_mode": {
    "name": "ipython",
    "version": 3
   },
   "file_extension": ".py",
   "mimetype": "text/x-python",
   "name": "python",
   "nbconvert_exporter": "python",
   "pygments_lexer": "ipython3",
   "version": "3.10.2"
  }
 },
 "nbformat": 4,
 "nbformat_minor": 5
}
