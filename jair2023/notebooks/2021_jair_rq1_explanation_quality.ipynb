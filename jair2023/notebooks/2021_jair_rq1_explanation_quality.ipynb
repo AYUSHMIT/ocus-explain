{
 "cells": [
  {
   "cell_type": "code",
   "execution_count": 1,
   "id": "d310dae6",
   "metadata": {},
   "outputs": [],
   "source": [
    "from pathlib import Path\n",
    "from pyexplain.benchmark.file_utils import *\n",
    "from pyexplain.benchmark.plot import *\n",
    "import IPython\n",
    "import numpy as np\n",
    "from collections import defaultdict\n",
    "from datetime import datetime\n",
    "\n",
    "pd.set_option('display.max_rows', 100)\n",
    "\n",
    "matplotlib.rcParams['pdf.fonttype'] = 42\n",
    "matplotlib.rcParams['ps.fonttype'] = 42\n",
    "matplotlib.rcParams['text.usetex'] = True\n",
    "matplotlib.rcParams['font.weight']= 'bold'"
   ]
  },
  {
   "cell_type": "code",
   "execution_count": 2,
   "id": "7d9858ce",
   "metadata": {},
   "outputs": [],
   "source": [
    "# MAC\n",
    "environment = 'MAC'\n",
    "BASE_MAC_LINUX = {\n",
    "    'MAC': '/Users/emiliogamba/Documents/01_VUB/01_Research/01_Shared_Projects/',\n",
    "    'LINUX': '/home/emilio/research/'\n",
    "}\n",
    "\n",
    "PATH_FIGURES_POST_PAPER = Path(BASE_MAC_LINUX[environment] + \"01_holygrail/latex/journal/jair21/figures/\")\n",
    "EXPERIMENT_RESULTS = Path(BASE_MAC_LINUX[environment] + \"06_HPC_Experiments/experiments/data/output/\")\n",
    "BASE_OUTPUT_PATH = BASE_MAC_LINUX[environment] + \"/06_HPC_Experiments/experiments/data/output/\"\n",
    "REMOTE_EXPERIMENT_RESULTS = \"/data/brussel/101/vsc10143/hpc_experiments2/experiments/data/output/\""
   ]
  },
  {
   "cell_type": "code",
   "execution_count": 9,
   "id": "44d4af2a",
   "metadata": {},
   "outputs": [],
   "source": [
    "def heatmap_costs(mus_cost, ocus_cost,jmp=60, fig_path=None):\n",
    "    min_val, max_val = 60, max(ocus_cost+mus_cost)\n",
    "    print(\"min_explanation_cost=\", min_val)\n",
    "    print(\"max_explanation_cost=\", max_val)\n",
    "    all_vals = list(range(min_val, max_val, jmp))\n",
    "    matx = [[0 for i in all_vals] for j in all_vals]\n",
    "\n",
    "    coordinate_yi = lambda yi: len(all_vals) - 1 - yi \n",
    "    coordinate_xi = lambda xi: xi\n",
    "\n",
    "    d_costs = defaultdict(int)\n",
    "    for m_cost, o_cost in zip(mus_cost, ocus_cost):\n",
    "        d_costs[(m_cost, o_cost)] += 1\n",
    "        #if m_cost < o_cost:            print(\"possible ????\", m_cost, o_cost)\n",
    "        \n",
    "    for ((m_cost, o_cost), val) in d_costs.items():\n",
    "        \n",
    "        xi, yi = ((o_cost-min_val)//jmp),  ((m_cost-min_val)//jmp)\n",
    "        if m_cost < 60 or o_cost < 60:\n",
    "            x_zero_cost = 0 if o_cost < 60 else xi\n",
    "            y_zero_cost = 0 if m_cost < 60 else yi\n",
    "            matx[coordinate_yi(0)][coordinate_xi(0)] += val\n",
    "        else:\n",
    "            matx[coordinate_yi(yi)][coordinate_xi(xi)] += val\n",
    "\n",
    "    for i in range(len(all_vals)):\n",
    "        for j in range(len(all_vals)):\n",
    "            matx[i][j] = 0 if (matx[i][j] == 0) else np.log(matx[i][j])\n",
    "\n",
    "    fig, ax = plt.subplots(figsize=(5,5))\n",
    "\n",
    "    matx2 = [[0 for i in all_vals] for j in all_vals]\n",
    "\n",
    "    im = ax.imshow(matx, cmap='binary', interpolation='nearest')\n",
    "\n",
    "    rng = np.arange(len(all_vals))\n",
    "    rng_rev = list(reversed(np.arange(len(all_vals))))\n",
    "\n",
    "    ax.set_xticks(rng)\n",
    "    ax.set_yticks(rng_rev)\n",
    "\n",
    "    # ... and label them with the respective list entries.\n",
    "    xticksLabels = [str(val) if idx % 2 == 0 else \"\" for idx, val in  enumerate(all_vals) ]\n",
    "    ax.set_xticklabels(xticksLabels,fontsize=16)\n",
    "    ax.xaxis.label.set_size(20)\n",
    "    ax.set_ylabel(\"MUS cost\")\n",
    "    \n",
    "    ax.yaxis.label.set_size(20)\n",
    "    ax.set_xlabel(\"OCUS cost\")\n",
    "    \n",
    "    yticksLabels = xticksLabels\n",
    "    ax.set_yticklabels(yticksLabels,fontsize=16)\n",
    "    \n",
    "    ax.plot(rng,rng_rev,linestyle='--')\n",
    "\n",
    "    if fig_path:\n",
    "        fig.savefig(fname=fig_path, bbox_inches =\"tight\",\n",
    "            transparent = True,)\n",
    "\n"
   ]
  },
  {
   "cell_type": "markdown",
   "id": "115b6452",
   "metadata": {},
   "source": [
    "check which instances do not timeout for mus and for "
   ]
  },
  {
   "cell_type": "code",
   "execution_count": 10,
   "id": "a8118cd2",
   "metadata": {},
   "outputs": [],
   "source": [
    "#  Optux Previsou results = 2021061714\n",
    "msg_output_folders = [\n",
    "    \"EXPLANATION_QUALITY_2/2022032111/\"\n",
    "]\n",
    "\n",
    "path_msg_output_dirs = [BASE_OUTPUT_PATH + o for o in msg_output_folders]\n",
    "df = folder_to_pandas_df_pickle(path_msg_output_dirs)\n",
    "\n",
    "ignored_instances = []\n",
    "ignored_instances += [\"frietkot\", \"simple\"]\n",
    "ignored_instances += list(set(i for i in df[\"params_instance\"] if 'sudoku-4x4' in i))\n",
    "\n",
    "def extract_explanation_cost(explanation_sequence):\n",
    "    return [expl[\"cost\"] for expl in explanation_sequence]\n",
    "\n",
    "df[\"explanation_cost\"] = df.apply(\n",
    "    lambda row: extract_explanation_cost(row[\"explanation\"]), axis=1)\n",
    "df[\"explanation_len\"] = df.apply(\n",
    "    lambda row: len(row[\"explanation\"]), axis=1)\n",
    "\n",
    "df_msg = df[\n",
    "    ~df[\"params_instance\"].isin(ignored_instances)\n",
    "]\n",
    "\n",
    "selected_columns = [\"params_explanation_computer\", \"params_instance\",\"explanation_cost\", 'explanation_len']"
   ]
  },
  {
   "cell_type": "code",
   "execution_count": 11,
   "id": "e12536b4",
   "metadata": {},
   "outputs": [],
   "source": [
    "df_sub_cols = df[[\"params_explanation_computer\", \"params_instance\",\"explanation_cost\", \"time_timedout\"]]\n",
    "assert len(df_sub_cols[df_sub_cols[\"time_timedout\"]]) == 0, \"Timedout instances\""
   ]
  },
  {
   "cell_type": "markdown",
   "id": "e60a72ec",
   "metadata": {},
   "source": [
    "### checking if the explanation sequences are correct and similar!"
   ]
  },
  {
   "cell_type": "code",
   "execution_count": 12,
   "id": "073cc89a",
   "metadata": {},
   "outputs": [
    {
     "name": "stdout",
     "output_type": "stream",
     "text": [
      "min_explanation_cost= 60\n",
      "max_explanation_cost= 1570\n",
      "/Users/emiliogamba/Documents/01_VUB/01_Research/01_Shared_Projects/01_holygrail/latex/journal/jair21/figures/heatmapcosts_ocus_mus_2022070718.pdf\n"
     ]
    },
    {
     "data": {
      "image/png": "[encoded data removed]",
      "text/plain": [
       "<Figure size 360x360 with 1 Axes>"
      ]
     },
     "metadata": {
      "needs_background": "light"
     },
     "output_type": "display_data"
    }
   ],
   "source": [
    "def check_explanation_sequence(mus_expl_seq, ocus_expl_seq):\n",
    "    \n",
    "    assert len(mus_expl_seq) == len(ocus_expl_seq), \"Explanation sequence should be of same length\"\n",
    "    mus_costs, ocus_costs = [], []\n",
    "    for mus_expl, ocus_expl in zip(mus_expl_seq, ocus_expl_seq):\n",
    "        mus_costs.append(mus_expl[\"cost\"])\n",
    "        ocus_costs.append(ocus_expl[\"cost\"])\n",
    "        if mus_expl[\"cost\"] < ocus_expl[\"cost\"]:\n",
    "            print(\"Is this possible?\")\n",
    "    return mus_costs, ocus_costs\n",
    "\n",
    "df_msg_pivot = df_msg.pivot(\n",
    "    index='params_instance', \n",
    "    columns='params_explanation_computer', \n",
    "    values='explanation').reset_index()\n",
    "\n",
    "all_mus_costs, all_ocus_costs = [], []\n",
    "\n",
    "for id, row in df_msg_pivot.iterrows():\n",
    "    mus_costs, ocus_costs = check_explanation_sequence(mus_expl_seq=row[\"MUS\"], ocus_expl_seq=row[\"OCUS\"])\n",
    "    all_mus_costs += mus_costs\n",
    "    all_ocus_costs += ocus_costs\n",
    "    \n",
    "heatmap_costs(\n",
    "    mus_cost=all_mus_costs,\n",
    "    ocus_cost=all_ocus_costs,\n",
    "    jmp=120,\n",
    "    fig_path=PATH_FIGURES_POST_PAPER / (\"heatmapcosts_ocus_mus_\" + datetime.now().strftime(\"%Y%m%d%H\") + \".pdf\")\n",
    ")\n",
    "print(PATH_FIGURES_POST_PAPER / (\"heatmapcosts_ocus_mus_\" + datetime.now().strftime(\"%Y%m%d%H\") + \".pdf\"))\n"
   ]
  },
  {
   "cell_type": "code",
   "execution_count": 28,
   "id": "ad5ddb6b",
   "metadata": {},
   "outputs": [
    {
     "data": {
      "image/png": "[encoded data removed]",
      "text/plain": [
       "<Figure size 432x288 with 1 Axes>"
      ]
     },
     "metadata": {
      "needs_background": "light"
     },
     "output_type": "display_data"
    }
   ],
   "source": [
    "#!/usr/bin/env python\n",
    "\n",
    "import numpy as np\n",
    "import matplotlib.mlab as mlab\n",
    "import matplotlib.pyplot as plt\n",
    "\n",
    "# the histogram of the data\n",
    "num_bins = 50\n",
    "n, bins, patches = plt.hist(all_mus_costs, num_bins, facecolor='blue', alpha=0.5)\n",
    "\n",
    "# Tweak spacing to prevent clipping of ylabel\n",
    "plt.subplots_adjust(left=0.15)\n",
    "plt.show()"
   ]
  },
  {
   "cell_type": "code",
   "execution_count": 8,
   "id": "a405a591",
   "metadata": {},
   "outputs": [
    {
     "data": {
      "image/png": "[encoded data removed]",
      "text/plain": [
       "<Figure size 432x288 with 1 Axes>"
      ]
     },
     "metadata": {
      "needs_background": "light"
     },
     "output_type": "display_data"
    }
   ],
   "source": [
    "#!/usr/bin/env python\n",
    "\n",
    "import numpy as np\n",
    "import matplotlib.mlab as mlab\n",
    "import matplotlib.pyplot as plt\n",
    "\n",
    "# the histogram of the data\n",
    "num_bins = 50\n",
    "n, bins, patches = plt.hist(all_ocus_costs, num_bins, facecolor='blue', alpha=0.5)\n",
    "\n",
    "# Tweak spacing to prevent clipping of ylabel\n",
    "plt.subplots_adjust(left=0.15)\n",
    "plt.show()"
   ]
  },
  {
   "cell_type": "code",
   "execution_count": null,
   "id": "3214a915",
   "metadata": {},
   "outputs": [],
   "source": []
  }
 ],
 "metadata": {
  "kernelspec": {
   "display_name": "Python 3 (ipykernel)",
   "language": "python",
   "name": "python3"
  },
  "language_info": {
   "codemirror_mode": {
    "name": "ipython",
    "version": 3
   },
   "file_extension": ".py",
   "mimetype": "text/x-python",
   "name": "python",
   "nbconvert_exporter": "python",
   "pygments_lexer": "ipython3",
   "version": "3.10.2"
  }
 },
 "nbformat": 4,
 "nbformat_minor": 5
}
