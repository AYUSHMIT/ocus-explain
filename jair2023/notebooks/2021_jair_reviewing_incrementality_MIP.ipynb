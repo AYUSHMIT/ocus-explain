{
 "cells": [
  {
   "cell_type": "code",
   "execution_count": 8,
   "id": "d0de7876",
   "metadata": {},
   "outputs": [],
   "source": [
    "from pathlib import Path\n",
    "from pyexplain.benchmark.file_utils import *\n",
    "from pyexplain.benchmark.plot import *\n",
    "from pyexplain.benchmark.check_results import *\n",
    "import IPython\n",
    "import numpy as np\n",
    "import matplotlib.pyplot as plt\n",
    "pd.set_option('display.max_rows', 100)\n",
    "\n",
    "matplotlib.rcParams['pdf.fonttype'] = 42\n",
    "matplotlib.rcParams['ps.fonttype'] = 42\n",
    "matplotlib.rcParams['text.usetex'] = True\n",
    "matplotlib.rcParams['font.weight']= 'bold'\n",
    "\n",
    "# MAC\n",
    "environment = 'MAC'\n",
    "BASE_MAC_LINUX = {\n",
    "    'MAC': '/Users/emiliogamba/Documents/01_VUB/01_Research/01_Shared_Projects',\n",
    "    'LINUX': '/home/emilio/research/'\n",
    "}\n",
    "\n",
    "PATH_FIGURES_POST_PAPER = Path(BASE_MAC_LINUX[environment]) / \"01_holygrail/latex/journal/jair21/figures/\"\n",
    "EXPERIMENT_RESULTS = Path(BASE_MAC_LINUX[environment]) / \"06_HPC_Experiments/experiments/data/output/\"\n",
    "BASE_OUTPUT_PATH = BASE_MAC_LINUX[environment] + \"/06_HPC_Experiments/experiments/data/output/\"\n",
    "REMOTE_EXPERIMENT_RESULTS = \"/data/brussel/101/vsc10143/hpc_experiments2/experiments/data/output/\""
   ]
  },
  {
   "cell_type": "markdown",
   "id": "1cf058b8",
   "metadata": {},
   "source": [
    "# Reviewer: Shouldn't incremental solving be worse than non-incremental?"
   ]
  },
  {
   "cell_type": "code",
   "execution_count": 9,
   "id": "a5f7e701",
   "metadata": {
    "scrolled": false
   },
   "outputs": [],
   "source": [
    "output_folder = EXPERIMENT_RESULTS / \"JAIR_REVIEWS_INCREMENTAL_HS/2023062209/\"\n",
    "\n",
    "df_ocus_non_incr = folder_to_pandas_df_pickle([output_folder])\n",
    "\n",
    "renaming_expl_config = {\n",
    "    \"OCUS_NOT_INCREMENTAL\":\"OCUS\",\n",
    "    \"OCUS_NOT_INCREMENTAL_HS\":\"OCUS_NON_INCR_HS\",\n",
    "}\n",
    "df_ocus_non_incr[\"explanation config\"] = df_ocus_non_incr.apply(lambda row: renaming_expl_config[row[\"params_explanation_computer\"]], axis=1)"
   ]
  },
  {
   "cell_type": "code",
   "execution_count": 10,
   "id": "899de04d",
   "metadata": {},
   "outputs": [
    {
     "data": {
      "text/plain": [
       "Index(['time_totalTime', 'time_timeout', 'time_timedout', 'time_explain',\n",
       "       'time_cumul_explain', 'time_preprocess', 'time_opt', 'time_sat',\n",
       "       'time_grow', 'time_disj_mcs', 'time_remaining', 'numbers_explained',\n",
       "       'numbers_#opt', 'numbers_#sat', 'numbers_#grow', 'numbers_#disj_mcs',\n",
       "       'numbers_#hs', 'numbers_#hs_disj_mcs', 'explanation', 'params_output',\n",
       "       'params_instance', 'params_timeout', 'params_explanation_computer',\n",
       "       'params_grow', 'params_maxsatpolarity', 'params_interpretation',\n",
       "       'params_weighing', 'params_reuse_SSes', 'params_sort_literals',\n",
       "       'params_disable_disjoint_mcses', 'params_disjoint_mcses',\n",
       "       'params_disjoint_mcs_interpretation', 'params_disjoint_mcs_weighing',\n",
       "       'time_timedout_initial', 'time_totalTime_initial',\n",
       "       'explanation config'],\n",
       "      dtype='object')"
      ]
     },
     "execution_count": 10,
     "metadata": {},
     "output_type": "execute_result"
    }
   ],
   "source": [
    "df_ocus_non_incr.columns"
   ]
  },
  {
   "cell_type": "markdown",
   "id": "a909e77a",
   "metadata": {},
   "source": [
    "# Authors: No, so what's the average speed up over all instances?\n",
    "\n",
    "Ideally, a fair comparison of the speed-up for keeping the MIP solver warm or not is: \n",
    "\n",
    "    \"Generate the same explanation step with\": \n",
    "\n",
    "        - OCUS hs solver restart at every iteration\n",
    "        - OCUS hs solver warm\n",
    "\n",
    "Then compare the speed-up that is acquired at every iteration (something we can see in time explain ?).\n",
    "\n",
    "This would allow us to include timedout instances."
   ]
  },
  {
   "cell_type": "markdown",
   "id": "7908d3b4",
   "metadata": {},
   "source": [
    "## 1. Cumulative impact of warm MIP solver on the generation of a whole explanation sequence"
   ]
  },
  {
   "cell_type": "code",
   "execution_count": 12,
   "id": "d5914074",
   "metadata": {},
   "outputs": [
    {
     "data": {
      "text/html": [
       "<div>\n",
       "<style scoped>\n",
       "    .dataframe tbody tr th:only-of-type {\n",
       "        vertical-align: middle;\n",
       "    }\n",
       "\n",
       "    .dataframe tbody tr th {\n",
       "        vertical-align: top;\n",
       "    }\n",
       "\n",
       "    .dataframe thead th {\n",
       "        text-align: right;\n",
       "    }\n",
       "</style>\n",
       "<table border=\"1\" class=\"dataframe\">\n",
       "  <thead>\n",
       "    <tr style=\"text-align: right;\">\n",
       "      <th></th>\n",
       "      <th>time_totalTime</th>\n",
       "    </tr>\n",
       "    <tr>\n",
       "      <th>params_explanation_computer</th>\n",
       "      <th></th>\n",
       "    </tr>\n",
       "  </thead>\n",
       "  <tbody>\n",
       "    <tr>\n",
       "      <th>OCUS_NOT_INCREMENTAL</th>\n",
       "      <td>288.145194</td>\n",
       "    </tr>\n",
       "    <tr>\n",
       "      <th>OCUS_NOT_INCREMENTAL_HS</th>\n",
       "      <td>639.711834</td>\n",
       "    </tr>\n",
       "  </tbody>\n",
       "</table>\n",
       "</div>"
      ],
      "text/plain": [
       "                             time_totalTime\n",
       "params_explanation_computer                \n",
       "OCUS_NOT_INCREMENTAL             288.145194\n",
       "OCUS_NOT_INCREMENTAL_HS          639.711834"
      ]
     },
     "execution_count": 12,
     "metadata": {},
     "output_type": "execute_result"
    }
   ],
   "source": [
    "selected_columns = [\n",
    "    \"params_explanation_computer\", \n",
    "    \"params_instance\", \n",
    "    \"time_totalTime\"]\n"
   ]
  },
  {
   "cell_type": "code",
   "execution_count": 22,
   "id": "4498e9f0",
   "metadata": {},
   "outputs": [
    {
     "name": "stdout",
     "output_type": "stream",
     "text": [
      "3.6914504470021674\n",
      "0.01029385281678945\n",
      "1.7292997568438269\n",
      "533.3835012149706\n"
     ]
    }
   ],
   "source": [
    "def time_explain_speed_up(t_expls_not_incr, t_expls_incr):\n",
    "    speed_ups = [t_expl_not_incr/t_expl_incr for t_expl_not_incr, t_expl_incr in zip(t_expls_not_incr, t_expls_incr)]\n",
    "    #print(f\"#speedups: {len(speed_ups)} -- #not incr: {len(t_expls_not_incr)} ----- # incr {len(t_expls_incr)}\")\n",
    "    return speed_ups\n",
    "\n",
    "all_speed_ups = []\n",
    "avg_speed_ups = []\n",
    "\n",
    "for instance in df_ocus_non_incr[\"params_instance\"].unique():\n",
    "    df_puzzle = df_ocus_non_incr[\n",
    "        df_ocus_non_incr[\"params_instance\"] == instance\n",
    "    ]\n",
    "    assert len(df_puzzle) == 2, f\"SHould be 2 configurations MIP incr and not incr.\\n{df_puzzle}\"\n",
    "    \n",
    "    t_expls_incr = df_puzzle[\n",
    "        df_puzzle[\"params_explanation_computer\"] == \"OCUS_NOT_INCREMENTAL\"\n",
    "    ][\"time_explain\"].to_list()[0]\n",
    "    t_expls_not_incr = df_puzzle[\n",
    "        df_puzzle[\"params_explanation_computer\"] == \"OCUS_NOT_INCREMENTAL_HS\"\n",
    "    ][\"time_explain\"].to_list()[0]\n",
    "    \n",
    "    expl_speed_ups = time_explain_speed_up(\n",
    "        t_expls_not_incr=t_expls_not_incr, \n",
    "        t_expls_incr=t_expls_incr)\n",
    "    if len(expl_speed_ups) == 0:\n",
    "        continue\n",
    "    \n",
    "    avg_speed_ups.append(np.mean(expl_speed_ups))\n",
    "    all_speed_ups += expl_speed_ups\n",
    "# print(avg_speed_ups)\n",
    "print(np.mean(all_speed_ups))\n",
    "print(np.min(all_speed_ups))\n",
    "print(np.median(all_speed_ups))\n",
    "print(np.max(all_speed_ups))\n"
   ]
  },
  {
   "cell_type": "markdown",
   "id": "b27fb66c",
   "metadata": {},
   "source": [
    "## 2. Impact of warm MIP solver on the generation of a whole explanation sequence"
   ]
  },
  {
   "cell_type": "code",
   "execution_count": null,
   "id": "652c067f",
   "metadata": {},
   "outputs": [],
   "source": []
  }
 ],
 "metadata": {
  "kernelspec": {
   "display_name": "Python 3 (ipykernel)",
   "language": "python",
   "name": "python3"
  },
  "language_info": {
   "codemirror_mode": {
    "name": "ipython",
    "version": 3
   },
   "file_extension": ".py",
   "mimetype": "text/x-python",
   "name": "python",
   "nbconvert_exporter": "python",
   "pygments_lexer": "ipython3",
   "version": "3.10.2"
  }
 },
 "nbformat": 4,
 "nbformat_minor": 5
}
